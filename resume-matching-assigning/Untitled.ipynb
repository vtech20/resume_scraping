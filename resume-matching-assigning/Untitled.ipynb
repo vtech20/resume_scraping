{
 "cells": [
  {
   "cell_type": "code",
   "execution_count": 1,
   "metadata": {},
   "outputs": [
    {
     "name": "stdout",
     "output_type": "stream",
     "text": [
      "Collecting pigar\n",
      "  Downloading pigar-0.10.0-py2.py3-none-any.whl (6.9 MB)\n",
      "Requirement already satisfied: colorama>=0.3.9 in c:\\users\\admin\\anaconda3\\lib\\site-packages (from pigar) (0.4.3)\n",
      "Requirement already satisfied: nbformat>=4.4.0 in c:\\users\\admin\\anaconda3\\lib\\site-packages (from pigar) (5.0.7)\n",
      "Requirement already satisfied: requests>=2.20.0 in c:\\users\\admin\\anaconda3\\lib\\site-packages (from pigar) (2.22.0)\n",
      "Requirement already satisfied: ipython-genutils in c:\\users\\admin\\anaconda3\\lib\\site-packages (from nbformat>=4.4.0->pigar) (0.2.0)\n",
      "Requirement already satisfied: jsonschema!=2.5.0,>=2.4 in c:\\users\\admin\\anaconda3\\lib\\site-packages (from nbformat>=4.4.0->pigar) (3.2.0)\n",
      "Requirement already satisfied: jupyter-core in c:\\users\\admin\\anaconda3\\lib\\site-packages (from nbformat>=4.4.0->pigar) (4.6.3)\n",
      "Requirement already satisfied: traitlets>=4.1 in c:\\users\\admin\\anaconda3\\lib\\site-packages (from nbformat>=4.4.0->pigar) (4.3.3)\n",
      "Requirement already satisfied: certifi>=2017.4.17 in c:\\users\\admin\\anaconda3\\lib\\site-packages (from requests>=2.20.0->pigar) (2020.6.20)\n",
      "Requirement already satisfied: urllib3!=1.25.0,!=1.25.1,<1.26,>=1.21.1 in c:\\users\\admin\\anaconda3\\lib\\site-packages (from requests>=2.20.0->pigar) (1.25.9)\n",
      "Requirement already satisfied: chardet<3.1.0,>=3.0.2 in c:\\users\\admin\\anaconda3\\lib\\site-packages (from requests>=2.20.0->pigar) (3.0.4)\n",
      "Requirement already satisfied: idna<2.9,>=2.5 in c:\\users\\admin\\anaconda3\\lib\\site-packages (from requests>=2.20.0->pigar) (2.8)\n",
      "Requirement already satisfied: pyrsistent>=0.14.0 in c:\\users\\admin\\anaconda3\\lib\\site-packages (from jsonschema!=2.5.0,>=2.4->nbformat>=4.4.0->pigar) (0.16.0)\n"
     ]
    },
    {
     "name": "stderr",
     "output_type": "stream",
     "text": [
      "WARNING: You are using pip version 20.2.4; however, version 22.0.3 is available.\n",
      "You should consider upgrading via the 'c:\\users\\admin\\anaconda3\\python.exe -m pip install --upgrade pip' command.\n"
     ]
    },
    {
     "name": "stdout",
     "output_type": "stream",
     "text": [
      "Requirement already satisfied: six>=1.11.0 in c:\\users\\admin\\anaconda3\\lib\\site-packages (from jsonschema!=2.5.0,>=2.4->nbformat>=4.4.0->pigar) (1.12.0)\n",
      "Requirement already satisfied: setuptools in c:\\users\\admin\\anaconda3\\lib\\site-packages (from jsonschema!=2.5.0,>=2.4->nbformat>=4.4.0->pigar) (50.3.2)\n",
      "Requirement already satisfied: attrs>=17.4.0 in c:\\users\\admin\\anaconda3\\lib\\site-packages (from jsonschema!=2.5.0,>=2.4->nbformat>=4.4.0->pigar) (19.3.0)\n",
      "Requirement already satisfied: pywin32>=1.0; sys_platform == \"win32\" in c:\\users\\admin\\anaconda3\\lib\\site-packages (from jupyter-core->nbformat>=4.4.0->pigar) (227)\n",
      "Requirement already satisfied: decorator in c:\\users\\admin\\anaconda3\\lib\\site-packages (from traitlets>=4.1->nbformat>=4.4.0->pigar) (4.4.2)\n",
      "Installing collected packages: pigar\n",
      "Successfully installed pigar-0.10.0\n"
     ]
    }
   ],
   "source": [
    "!pip install pigar"
   ]
  },
  {
   "cell_type": "code",
   "execution_count": 8,
   "metadata": {},
   "outputs": [
    {
     "name": "stdout",
     "output_type": "stream",
     "text": [
      "Collecting pipreqsnb\n",
      "  Downloading pipreqsnb-0.2.4.tar.gz (3.7 kB)\n",
      "Collecting pipreqs\n",
      "  Downloading pipreqs-0.4.11-py2.py3-none-any.whl (32 kB)\n",
      "Processing c:\\users\\admin\\appdata\\local\\pip\\cache\\wheels\\56\\ea\\58\\ead137b087d9e326852a851351d1debf4ada529b6ac0ec4e8c\\docopt-0.6.2-py2.py3-none-any.whl\n",
      "Collecting yarg\n",
      "  Downloading yarg-0.1.9-py2.py3-none-any.whl (19 kB)\n",
      "Requirement already satisfied: requests in c:\\users\\admin\\anaconda3\\lib\\site-packages (from yarg->pipreqs->pipreqsnb) (2.22.0)\n",
      "Requirement already satisfied: chardet<3.1.0,>=3.0.2 in c:\\users\\admin\\anaconda3\\lib\\site-packages (from requests->yarg->pipreqs->pipreqsnb) (3.0.4)\n",
      "Requirement already satisfied: certifi>=2017.4.17 in c:\\users\\admin\\anaconda3\\lib\\site-packages (from requests->yarg->pipreqs->pipreqsnb) (2020.6.20)\n",
      "Requirement already satisfied: urllib3!=1.25.0,!=1.25.1,<1.26,>=1.21.1 in c:\\users\\admin\\anaconda3\\lib\\site-packages (from requests->yarg->pipreqs->pipreqsnb) (1.25.9)\n",
      "Requirement already satisfied: idna<2.9,>=2.5 in c:\\users\\admin\\anaconda3\\lib\\site-packages (from requests->yarg->pipreqs->pipreqsnb) (2.8)\n",
      "Building wheels for collected packages: pipreqsnb\n",
      "  Building wheel for pipreqsnb (setup.py): started\n",
      "  Building wheel for pipreqsnb (setup.py): finished with status 'done'\n",
      "  Created wheel for pipreqsnb: filename=pipreqsnb-0.2.4-py3-none-any.whl size=4143 sha256=e0fd31428e14ebcb03ae6a8dfc074f4dd8e5c2623ef3cb4788d8ce82f09458a8\n",
      "  Stored in directory: c:\\users\\admin\\appdata\\local\\pip\\cache\\wheels\\b7\\52\\75\\7cd1637fa671c05ca5bafc190ac15c3bcbadbf7eaff4323331\n",
      "Successfully built pipreqsnb\n",
      "Installing collected packages: docopt, yarg, pipreqs, pipreqsnb\n",
      "Successfully installed docopt-0.6.2 pipreqs-0.4.11 pipreqsnb-0.2.4 yarg-0.1.9\n"
     ]
    },
    {
     "name": "stderr",
     "output_type": "stream",
     "text": [
      "WARNING: You are using pip version 20.2.4; however, version 22.0.3 is available.\n",
      "You should consider upgrading via the 'c:\\users\\admin\\anaconda3\\python.exe -m pip install --upgrade pip' command.\n"
     ]
    }
   ],
   "source": [
    "!pip install pipreqsnb"
   ]
  },
  {
   "cell_type": "code",
   "execution_count": 2,
   "metadata": {},
   "outputs": [],
   "source": [
    "import PyPDF2\n",
    "import logging\n",
    "import os\n",
    "import docx2txt\n",
    "import re\n",
    "import requests\n",
    "import json\n",
    "import nltk\n",
    "import pandas as pd\n",
    "import os"
   ]
  },
  {
   "cell_type": "code",
   "execution_count": 4,
   "metadata": {},
   "outputs": [],
   "source": [
    "import pigar"
   ]
  },
  {
   "cell_type": "code",
   "execution_count": 10,
   "metadata": {},
   "outputs": [],
   "source": [
    "import pipreqsnb"
   ]
  },
  {
   "cell_type": "code",
   "execution_count": 11,
   "metadata": {},
   "outputs": [
    {
     "data": {
      "text/plain": [
       "<module 'pipreqsnb' from 'C:\\\\Users\\\\Admin\\\\anaconda3\\\\lib\\\\site-packages\\\\pipreqsnb\\\\__init__.py'>"
      ]
     },
     "execution_count": 11,
     "metadata": {},
     "output_type": "execute_result"
    }
   ],
   "source": []
  },
  {
   "cell_type": "code",
   "execution_count": null,
   "metadata": {},
   "outputs": [],
   "source": []
  }
 ],
 "metadata": {
  "kernelspec": {
   "display_name": "Python 3",
   "language": "python",
   "name": "python3"
  },
  "language_info": {
   "codemirror_mode": {
    "name": "ipython",
    "version": 3
   },
   "file_extension": ".py",
   "mimetype": "text/x-python",
   "name": "python",
   "nbconvert_exporter": "python",
   "pygments_lexer": "ipython3",
   "version": "3.8.3"
  }
 },
 "nbformat": 4,
 "nbformat_minor": 4
}
